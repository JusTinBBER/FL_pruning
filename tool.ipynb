{
 "cells": [
  {
   "cell_type": "code",
   "execution_count": 6,
   "metadata": {},
   "outputs": [],
   "source": [
    "from PIL import Image\n",
    "import os\n",
    "import traceback\n",
    "import glob\n",
    "import random\n",
    "import cv2\n",
    "from pathlib import Path"
   ]
  },
  {
   "cell_type": "code",
   "execution_count": 12,
   "metadata": {},
   "outputs": [],
   "source": [
    "#切資料集\n",
    "img_dir = '/Users/taka/Desktop/fl_data/black'\n",
    "save_dir = '/Users/taka/Desktop/fl_data/val'\n",
    "train_val_num = 0.8\n",
    "\n",
    "img_dir_list=glob.glob(img_dir+os.sep+\"*\")#獲取每個類别所在的路徑（一個類别對應一個文件夾）\n",
    "for class_dir in img_dir_list:\n",
    "    class_name=class_dir.split(os.sep)[-1] #獲取當前類别\n",
    "    img_list=glob.glob(class_dir+os.sep+\"*\") #獲取每個類别文件夾下的所有圖片\n",
    "    all_num=len(img_list) #獲取總個數\n",
    "    train_list=random.sample(img_list,int(all_num*train_val_num)) #訓練集圖片所在路徑\n",
    "    save_train=save_dir+os.sep+'train3'+os.sep+class_name\n",
    "    save_val=save_dir+os.sep+\"val\"+os.sep+class_name\n",
    "    os.makedirs(save_train,exist_ok=True)\n",
    "    # os.makedirs(save_val,exist_ok=True) #建立對應的文件夾\n",
    "    #保存切分好的數據集\n",
    "    for imgpath in img_list:\n",
    "        imgname=Path(imgpath).name #獲取文件名\n",
    "        if imgpath in train_list:\n",
    "            img=cv2.imread(imgpath)\n",
    "            img = cv2.resize(img, (224, 224), interpolation=cv2.INTER_AREA)\n",
    "            cv2.imwrite(save_train+os.sep+imgname,img)\n",
    "        else: #將除了訓練集意外的數據均視為驗證集\n",
    "            img = cv2.imread(imgpath)\n",
    "            img = cv2.resize(img, (224, 224), interpolation=cv2.INTER_AREA)\n",
    "            cv2.imwrite(save_val + os.sep + imgname, img)"
   ]
  },
  {
   "cell_type": "code",
   "execution_count": 11,
   "metadata": {},
   "outputs": [
    {
     "name": "stdout",
     "output_type": "stream",
     "text": [
      "zsh:1: /Users/taka/Desktop/code/FL-Pruning/.env/bin/pip3: bad interpreter: /Users/taka/Desktop/code/itrii/.env/bin/python3.10: no such file or directory\n",
      "Requirement already satisfied: pyheif in /opt/homebrew/lib/python3.10/site-packages (0.7.0)\n",
      "Requirement already satisfied: cffi>=1.0.0 in /opt/homebrew/lib/python3.10/site-packages (from pyheif) (1.15.1)\n",
      "Requirement already satisfied: pycparser in /opt/homebrew/lib/python3.10/site-packages (from cffi>=1.0.0->pyheif) (2.21)\n"
     ]
    }
   ],
   "source": [
    "!python3 -m pip3 install pyheif"
   ]
  },
  {
   "cell_type": "code",
   "execution_count": null,
   "metadata": {},
   "outputs": [],
   "source": [
    "img_path = ''\n",
    "save_path = ''\n",
    "dir_list = os.listdir(img_path)\n",
    "for t in dir_list:\n",
    "    img_list = os.listdir(img_path + dir_list[t])\n",
    "    #img read\n",
    "    img = Image.open(img_path + dir_list[t] + img_list[0])\n",
    "    if os.path.exists(save_path + dir_list[t]) :\n",
    "        pass\n",
    "    else :\n",
    "        os.makedirs(save_path + dir_list[t])\n",
    "    img.save(save_path + dir_list[t] + img_list[0])"
   ]
  }
 ],
 "metadata": {
  "kernelspec": {
   "display_name": "Python 3.10.8 ('.env': venv)",
   "language": "python",
   "name": "python3"
  },
  "language_info": {
   "codemirror_mode": {
    "name": "ipython",
    "version": 3
   },
   "file_extension": ".py",
   "mimetype": "text/x-python",
   "name": "python",
   "nbconvert_exporter": "python",
   "pygments_lexer": "ipython3",
   "version": "3.10.8"
  },
  "orig_nbformat": 4,
  "vscode": {
   "interpreter": {
    "hash": "70d2809532dc708413624552e208fd6be4c40220eee92c7afd37ff9ab86cab14"
   }
  }
 },
 "nbformat": 4,
 "nbformat_minor": 2
}
